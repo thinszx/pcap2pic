{
 "cells": [
  {
   "cell_type": "code",
   "execution_count": 1,
   "metadata": {},
   "outputs": [],
   "source": [
    "# h5py document: http://docs.h5py.org/en/stable/quick.html\n",
    "import h5py\n",
    "import numpy as np\n",
    "import pandas as pd\n",
    "from PIL import Image\n",
    "from tqdm.notebook import tqdm"
   ]
  },
  {
   "cell_type": "code",
   "execution_count": 2,
   "metadata": {},
   "outputs": [],
   "source": [
    "def read_image(grayscale_path, csv_file_path, hdf5_file_path) -> list:\n",
    "    name_label = pd.read_csv(csv_file_path, usecols=['PicName', 'Label'])\n",
    "\n",
    "    # extract_name_label_obj = name_label.groupby('Label')\n",
    "    group_names = name_label.loc[:, 'Label'].unique() # 'neris', 'rbot', ...\n",
    "    filename_bygroup = []\n",
    "    \n",
    "    # read image names by group\n",
    "    for group in group_names:\n",
    "        one_group = name_label[name_label.loc[:, 'Label'].isin([group])]\n",
    "        one_group_names = np.array(one_group.loc[:, 'PicName'] + '.bmp').tolist()\n",
    "        filename_bygroup.append(one_group_names)\n",
    "    \n",
    "    total = 0\n",
    "    for ls in filename_bygroup:\n",
    "        total += len(ls)\n",
    "    print('Totaly {img_num} images of {type_num} types.'\\\n",
    "         .format(img_num = total, type_num = len(group_names)))\n",
    "    \n",
    "    # read images by type\n",
    "    image_list = []\n",
    "    for name_order, name_list in enumerate(filename_bygroup):\n",
    "        one_type_list = []\n",
    "        for cnt, name in enumerate(tqdm(name_list, \\\n",
    "                                        desc='Reading \\'{0}\\' images'.format(group_names[name_order]))):\n",
    "            img = Image.open(grayscale_path + name).convert('L')\n",
    "            img = np.array(img).reshape(32, 32) / 255.0\n",
    "            one_type_list.append(img)\n",
    "        image_list.append(one_type_list)\n",
    "    label_list = group_names\n",
    "    \n",
    "    assert len(label_list) == len(image_list)\n",
    "    \n",
    "    return image_list, label_list"
   ]
  },
  {
   "cell_type": "code",
   "execution_count": 3,
   "metadata": {},
   "outputs": [],
   "source": [
    "def botnet2hdf5(grayscale_path, csv_file, hdf5_file_path):\n",
    "    if os.path.exists(hdf5_file_path) == False:\n",
    "        os.mkdir(hdf5_file_path)\n",
    "        \n",
    "    image_list, label_list = read_image(grayscale_path, csv_file)\n",
    "    \n",
    "    for i in range(len(image_list)):\n",
    "        with h5py.File(hdf5_file_path + label_list[i] + '.h5', 'w') as hdf:\n",
    "            hdf.create_dataset('image_array', data=np.array(image_list[i]))"
   ]
  },
  {
   "cell_type": "code",
   "execution_count": null,
   "metadata": {},
   "outputs": [],
   "source": []
  },
  {
   "cell_type": "code",
   "execution_count": null,
   "metadata": {},
   "outputs": [
    {
     "name": "stdout",
     "output_type": "stream",
     "text": [
      "Totaly 986708 images of 1 types.\n"
     ]
    },
    {
     "data": {
      "application/vnd.jupyter.widget-view+json": {
       "model_id": "768b6ccf45c041df8f878ed90a775e9b",
       "version_major": 2,
       "version_minor": 0
      },
      "text/plain": [
       "HBox(children=(FloatProgress(value=0.0, description=\"Reading 'normal' images\", max=986708.0, style=ProgressSty…"
      ]
     },
     "metadata": {},
     "output_type": "display_data"
    }
   ],
   "source": [
    "grayscale_path = None\n",
    "botnet_csv = None\n",
    "hdf5_file_path = None\n",
    "\n",
    "botnet2hdf5(grayscale_path, botnet_csv, hdf5_file_path)"
   ]
  }
 ],
 "metadata": {
  "kernelspec": {
   "display_name": "Python 3",
   "language": "python",
   "name": "python3"
  },
  "language_info": {
   "codemirror_mode": {
    "name": "ipython",
    "version": 3
   },
   "file_extension": ".py",
   "mimetype": "text/x-python",
   "name": "python",
   "nbconvert_exporter": "python",
   "pygments_lexer": "ipython3",
   "version": "3.7.7"
  }
 },
 "nbformat": 4,
 "nbformat_minor": 4
}
